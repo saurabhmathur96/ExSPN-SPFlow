{
 "cells": [
  {
   "cell_type": "code",
   "execution_count": 1,
   "metadata": {},
   "outputs": [
    {
     "data": {
      "text/html": [
       "<div>\n",
       "<style scoped>\n",
       "    .dataframe tbody tr th:only-of-type {\n",
       "        vertical-align: middle;\n",
       "    }\n",
       "\n",
       "    .dataframe tbody tr th {\n",
       "        vertical-align: top;\n",
       "    }\n",
       "\n",
       "    .dataframe thead th {\n",
       "        text-align: right;\n",
       "    }\n",
       "</style>\n",
       "<table border=\"1\" class=\"dataframe\">\n",
       "  <thead>\n",
       "    <tr style=\"text-align: right;\">\n",
       "      <th></th>\n",
       "      <th>buying</th>\n",
       "      <th>maint</th>\n",
       "      <th>doors</th>\n",
       "      <th>persons</th>\n",
       "      <th>lug_boot</th>\n",
       "      <th>safety</th>\n",
       "      <th>class</th>\n",
       "    </tr>\n",
       "  </thead>\n",
       "  <tbody>\n",
       "    <tr>\n",
       "      <th>0</th>\n",
       "      <td>vhigh</td>\n",
       "      <td>vhigh</td>\n",
       "      <td>2</td>\n",
       "      <td>2</td>\n",
       "      <td>small</td>\n",
       "      <td>low</td>\n",
       "      <td>unacc</td>\n",
       "    </tr>\n",
       "    <tr>\n",
       "      <th>1</th>\n",
       "      <td>vhigh</td>\n",
       "      <td>vhigh</td>\n",
       "      <td>2</td>\n",
       "      <td>2</td>\n",
       "      <td>small</td>\n",
       "      <td>med</td>\n",
       "      <td>unacc</td>\n",
       "    </tr>\n",
       "    <tr>\n",
       "      <th>2</th>\n",
       "      <td>vhigh</td>\n",
       "      <td>vhigh</td>\n",
       "      <td>2</td>\n",
       "      <td>2</td>\n",
       "      <td>small</td>\n",
       "      <td>high</td>\n",
       "      <td>unacc</td>\n",
       "    </tr>\n",
       "    <tr>\n",
       "      <th>3</th>\n",
       "      <td>vhigh</td>\n",
       "      <td>vhigh</td>\n",
       "      <td>2</td>\n",
       "      <td>2</td>\n",
       "      <td>med</td>\n",
       "      <td>low</td>\n",
       "      <td>unacc</td>\n",
       "    </tr>\n",
       "    <tr>\n",
       "      <th>4</th>\n",
       "      <td>vhigh</td>\n",
       "      <td>vhigh</td>\n",
       "      <td>2</td>\n",
       "      <td>2</td>\n",
       "      <td>med</td>\n",
       "      <td>med</td>\n",
       "      <td>unacc</td>\n",
       "    </tr>\n",
       "    <tr>\n",
       "      <th>...</th>\n",
       "      <td>...</td>\n",
       "      <td>...</td>\n",
       "      <td>...</td>\n",
       "      <td>...</td>\n",
       "      <td>...</td>\n",
       "      <td>...</td>\n",
       "      <td>...</td>\n",
       "    </tr>\n",
       "    <tr>\n",
       "      <th>1723</th>\n",
       "      <td>low</td>\n",
       "      <td>low</td>\n",
       "      <td>5more</td>\n",
       "      <td>more</td>\n",
       "      <td>med</td>\n",
       "      <td>med</td>\n",
       "      <td>good</td>\n",
       "    </tr>\n",
       "    <tr>\n",
       "      <th>1724</th>\n",
       "      <td>low</td>\n",
       "      <td>low</td>\n",
       "      <td>5more</td>\n",
       "      <td>more</td>\n",
       "      <td>med</td>\n",
       "      <td>high</td>\n",
       "      <td>vgood</td>\n",
       "    </tr>\n",
       "    <tr>\n",
       "      <th>1725</th>\n",
       "      <td>low</td>\n",
       "      <td>low</td>\n",
       "      <td>5more</td>\n",
       "      <td>more</td>\n",
       "      <td>big</td>\n",
       "      <td>low</td>\n",
       "      <td>unacc</td>\n",
       "    </tr>\n",
       "    <tr>\n",
       "      <th>1726</th>\n",
       "      <td>low</td>\n",
       "      <td>low</td>\n",
       "      <td>5more</td>\n",
       "      <td>more</td>\n",
       "      <td>big</td>\n",
       "      <td>med</td>\n",
       "      <td>good</td>\n",
       "    </tr>\n",
       "    <tr>\n",
       "      <th>1727</th>\n",
       "      <td>low</td>\n",
       "      <td>low</td>\n",
       "      <td>5more</td>\n",
       "      <td>more</td>\n",
       "      <td>big</td>\n",
       "      <td>high</td>\n",
       "      <td>vgood</td>\n",
       "    </tr>\n",
       "  </tbody>\n",
       "</table>\n",
       "<p>1728 rows × 7 columns</p>\n",
       "</div>"
      ],
      "text/plain": [
       "     buying  maint  doors persons lug_boot safety  class\n",
       "0     vhigh  vhigh      2       2    small    low  unacc\n",
       "1     vhigh  vhigh      2       2    small    med  unacc\n",
       "2     vhigh  vhigh      2       2    small   high  unacc\n",
       "3     vhigh  vhigh      2       2      med    low  unacc\n",
       "4     vhigh  vhigh      2       2      med    med  unacc\n",
       "...     ...    ...    ...     ...      ...    ...    ...\n",
       "1723    low    low  5more    more      med    med   good\n",
       "1724    low    low  5more    more      med   high  vgood\n",
       "1725    low    low  5more    more      big    low  unacc\n",
       "1726    low    low  5more    more      big    med   good\n",
       "1727    low    low  5more    more      big   high  vgood\n",
       "\n",
       "[1728 rows x 7 columns]"
      ]
     },
     "execution_count": 1,
     "metadata": {},
     "output_type": "execute_result"
    }
   ],
   "source": [
    "from sklearn.datasets import fetch_openml\n",
    "from sklearn.model_selection import train_test_split\n",
    "from spn.structure.leaves.parametric.Parametric import Categorical, Gaussian\n",
    "from spn.algorithms.LearningWrappers import learn_parametric\n",
    "from spn.structure.Base import Context\n",
    "\n",
    "import pandas as pd\n",
    "import numpy as np\n",
    "\n",
    "\n",
    "bunch = fetch_openml(data_id = 40975)\n",
    "bunch.frame"
   ]
  },
  {
   "cell_type": "code",
   "execution_count": 2,
   "metadata": {},
   "outputs": [
    {
     "name": "stdout",
     "output_type": "stream",
     "text": [
      "1296 in train, 432 in test\n"
     ]
    }
   ],
   "source": [
    "frame = bunch.frame.dropna()\n",
    "names = frame.columns.tolist()\n",
    "categories = list(names)\n",
    "categorical = [True]*len(names)\n",
    "cols = []\n",
    "value_text = []\n",
    "for name in names:\n",
    "    if name in categories:\n",
    "        values, text = pd.factorize(frame[name], sort=True)\n",
    "        value_text.append(text.tolist())\n",
    "        cols.append(values)\n",
    "    else:\n",
    "        cols.append(frame[name])\n",
    "        value_text.append(None)\n",
    "\n",
    "data = np.stack(cols, axis=1)\n",
    "ptypes = [Categorical if name in categories else Gaussian for name in names]\n",
    "\n",
    "train, test = train_test_split(data, random_state = 0)\n",
    "print (\"%d in train, %d in test\" % (len(train), len(test)))"
   ]
  },
  {
   "cell_type": "code",
   "execution_count": 3,
   "metadata": {
    "scrolled": true
   },
   "outputs": [
    {
     "name": "stderr",
     "output_type": "stream",
     "text": [
      "/home/saurabh/miniconda3/lib/python3.7/site-packages/numpy/core/_asarray.py:136: VisibleDeprecationWarning: Creating an ndarray from ragged nested sequences (which is a list-or-tuple of lists-or-tuples-or ndarrays with different lengths or shapes) is deprecated. If you meant to do this, you must specify 'dtype=object' when creating the ndarray\n",
      "  return array(a, dtype, copy=False, order=order, subok=True)\n"
     ]
    }
   ],
   "source": [
    "net = learn_parametric(train, \n",
    "                       ds_context = Context(parametric_types=ptypes).add_domains(train), \n",
    "                       rows = \"gmm\", ohe = True,\n",
    "                       min_instances_slice = len(train) / 100)"
   ]
  },
  {
   "cell_type": "code",
   "execution_count": 4,
   "metadata": {},
   "outputs": [
    {
     "name": "stdout",
     "output_type": "stream",
     "text": [
      "#product nodes =  18\n",
      "18, 5.22, 2.50\n",
      "14, 5.21, 2.64\n"
     ]
    }
   ],
   "source": [
    "import csi2\n",
    "from spn.structure.Base import get_nodes_by_type, Product\n",
    "\n",
    "\n",
    "\n",
    "def format_condition(condition):\n",
    "    try:\n",
    "        a, sign, b = condition.split(\" \")\n",
    "    except ValueError as e:\n",
    "        raise ValueError(\"Some nodes don't have conditions. reduce min_impurity_decrease\")\n",
    "    \n",
    "    assert sign in ('==', '!=')\n",
    "    i = names.index(a)\n",
    "    v = value_text[i][int(b)]\n",
    "    return (\"%s %s %s\" % (a, sign, v))\n",
    "\n",
    "\n",
    "print ('#product nodes = ', len(get_nodes_by_type(net, (Product))))\n",
    "\n",
    "csi2.annotate_spn(net, names, categorical, \n",
    "             min_impurity_decrease = 0.05, max_depth = 2)\n",
    "rules = csi2.context_specific_independences(net, instance_threshold = 0)\n",
    "\n",
    "\n",
    "rules = csi2.context_specific_independences(net, instance_threshold = 0)\n",
    "csis = []\n",
    "ac = []\n",
    "cc = []\n",
    "for i, rule in enumerate(rules):\n",
    "    antecedent, consequent, *scores = rule\n",
    "    A = csi2.format_antecedent(antecedent, format_condition)\n",
    "    C = csi2.format_consequent(consequent)\n",
    "    a_count = csi2.antecedent_count(A)\n",
    "    c_count = csi2.consequent_count(C)\n",
    "    ac.append(a_count)\n",
    "    cc.append(c_count)\n",
    "    csis.append (\"{%s} => {%s} | %.2f, %.2f, %d | %d %d\" % (A, C, *scores, a_count, c_count))\n",
    "print (\"%d, %.2f, %.2f\" % (len(csis), np.mean(ac), np.mean(cc)))\n",
    "\n",
    "rules = csi2.context_specific_independences(net, instance_threshold = len(train) / 20,\n",
    "                                           precision_threshold = 0.7, recall_threshold = 0.7)\n",
    "csis = []\n",
    "ac = []\n",
    "cc = []\n",
    "for i, rule in enumerate(rules):\n",
    "    antecedent, consequent, *scores = rule\n",
    "    A = csi2.format_antecedent(antecedent, format_condition)\n",
    "    C = csi2.format_consequent(consequent)\n",
    "    a_count = csi2.antecedent_count(A)\n",
    "    c_count = csi2.consequent_count(C)\n",
    "    ac.append(a_count)\n",
    "    cc.append(c_count)\n",
    "    csis.append (\"{%s} => {%s} | %.2f, %.2f, %d | %d %d\" % (A, C, *scores, a_count, c_count))\n",
    "print (\"%d, %.2f, %.2f\" % (len(csis), np.mean(ac), np.mean(cc)))"
   ]
  },
  {
   "cell_type": "code",
   "execution_count": 5,
   "metadata": {},
   "outputs": [
    {
     "data": {
      "text/plain": [
       "['{((doors != 4) & (doors == 5more)) | (doors == 4)} => {(buying,persons,safety,class), (maint), (doors), (lug_boot)} | 1.00, 1.00, 655 | 3 4',\n",
       " '{(doors != 4) & (doors != 5more)} => {(buying,persons,safety,class), (maint), (doors), (lug_boot)} | 1.00, 1.00, 641 | 2 4',\n",
       " '{[((doors != 4) & (doors == 5more)) | (doors == 4)] & [((buying != high) & (buying == vhigh)) | (buying == high)]} => {(buying), (persons,safety,class)} | 1.00, 1.00, 338 | 6 2',\n",
       " '{[((doors != 4) & (doors == 5more)) | (doors == 4)] & [(buying != high) & (buying != vhigh)]} => {(buying), (persons,safety,class)} | 1.00, 1.00, 317 | 5 2',\n",
       " '{[(doors != 4) & (doors != 5more)] & [class != unacc]} => {(buying,safety,class), (persons)} | 1.00, 1.00, 175 | 3 2',\n",
       " '{[(doors != 4) & (doors != 5more)] & [class == unacc]} => {(class), (buying), (persons), (safety)} | 1.00, 1.00, 466 | 3 4',\n",
       " '{[((doors != 4) & (doors == 5more)) | (doors == 4)] & [((buying != high) & (buying == vhigh)) | (buying == high)] & [class != acc]} => {(class), (persons), (safety)} | 1.00, 1.00, 256 | 7 3',\n",
       " '{[((doors != 4) & (doors == 5more)) | (doors == 4)] & [((buying != high) & (buying == vhigh)) | (buying == high)] & [class == acc]} => {(class), (persons), (safety)} | 1.00, 1.00, 82 | 7 3',\n",
       " '{[((doors != 4) & (doors == 5more)) | (doors == 4)] & [(buying != high) & (buying != vhigh)] & [class == unacc]} => {(class), (persons,safety)} | 1.00, 1.00, 192 | 6 2',\n",
       " '{[((doors != 4) & (doors == 5more)) | (doors == 4)] & [(buying != high) & (buying != vhigh)] & [class != unacc]} => {(persons), (safety,class)} | 1.00, 1.00, 125 | 6 2',\n",
       " '{[(doors != 4) & (doors != 5more)] & [class != unacc] & [class == acc]} => {(class), (buying), (safety)} | 1.00, 1.00, 129 | 4 3',\n",
       " '{[((doors != 4) & (doors == 5more)) | (doors == 4)] & [(buying != high) & (buying != vhigh)] & [class == unacc] & [persons != 2]} => {(persons), (safety)} | 1.00, 1.00, 78 | 7 2',\n",
       " '{[((doors != 4) & (doors == 5more)) | (doors == 4)] & [(buying != high) & (buying != vhigh)] & [class == unacc] & [persons == 2]} => {(persons), (safety)} | 1.00, 1.00, 114 | 7 2',\n",
       " '{[((doors != 4) & (doors == 5more)) | (doors == 4)] & [(buying != high) & (buying != vhigh)] & [class != unacc] & [class != vgood]} => {(safety), (class)} | 1.00, 1.00, 99 | 7 2']"
      ]
     },
     "execution_count": 5,
     "metadata": {},
     "output_type": "execute_result"
    }
   ],
   "source": [
    "csis"
   ]
  },
  {
   "cell_type": "code",
   "execution_count": 6,
   "metadata": {},
   "outputs": [
    {
     "name": "stdout",
     "output_type": "stream",
     "text": [
      "-7.92\n"
     ]
    }
   ],
   "source": [
    "from spn.algorithms.Inference import log_likelihood\n",
    "\n",
    "print (\"%.2f\" % np.mean(log_likelihood(net, test)))"
   ]
  }
 ],
 "metadata": {
  "kernelspec": {
   "display_name": "Python 3",
   "language": "python",
   "name": "python3"
  },
  "language_info": {
   "codemirror_mode": {
    "name": "ipython",
    "version": 3
   },
   "file_extension": ".py",
   "mimetype": "text/x-python",
   "name": "python",
   "nbconvert_exporter": "python",
   "pygments_lexer": "ipython3",
   "version": "3.7.3"
  }
 },
 "nbformat": 4,
 "nbformat_minor": 2
}
