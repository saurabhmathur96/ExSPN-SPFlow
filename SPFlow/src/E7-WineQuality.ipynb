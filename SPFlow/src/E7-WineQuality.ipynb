{
 "cells": [
  {
   "cell_type": "code",
   "execution_count": 13,
   "metadata": {},
   "outputs": [],
   "source": [
    "!wget -q https://archive.ics.uci.edu/ml/machine-learning-databases/wine-quality/winequality-red.csv\n",
    "!wget -q https://archive.ics.uci.edu/ml/machine-learning-databases/wine-quality/winequality-white.csv"
   ]
  },
  {
   "cell_type": "code",
   "execution_count": 1,
   "metadata": {},
   "outputs": [
    {
     "name": "stdout",
     "output_type": "stream",
     "text": [
      "1599 red wines and 4898 white wines\n",
      "6497 rows\n",
      "(6497, 12)\n"
     ]
    },
    {
     "data": {
      "text/html": [
       "<div>\n",
       "<style scoped>\n",
       "    .dataframe tbody tr th:only-of-type {\n",
       "        vertical-align: middle;\n",
       "    }\n",
       "\n",
       "    .dataframe tbody tr th {\n",
       "        vertical-align: top;\n",
       "    }\n",
       "\n",
       "    .dataframe thead th {\n",
       "        text-align: right;\n",
       "    }\n",
       "</style>\n",
       "<table border=\"1\" class=\"dataframe\">\n",
       "  <thead>\n",
       "    <tr style=\"text-align: right;\">\n",
       "      <th></th>\n",
       "      <th>fixed_acidity</th>\n",
       "      <th>volatile_acidity</th>\n",
       "      <th>citric_acid</th>\n",
       "      <th>residual_sugar</th>\n",
       "      <th>chlorides</th>\n",
       "      <th>free_sulfur_dioxide</th>\n",
       "      <th>total_sulfur_dioxide</th>\n",
       "      <th>density</th>\n",
       "      <th>pH</th>\n",
       "      <th>sulphates</th>\n",
       "      <th>alcohol</th>\n",
       "      <th>quality</th>\n",
       "    </tr>\n",
       "  </thead>\n",
       "  <tbody>\n",
       "    <tr>\n",
       "      <th>0</th>\n",
       "      <td>7.4</td>\n",
       "      <td>0.70</td>\n",
       "      <td>0.00</td>\n",
       "      <td>1.9</td>\n",
       "      <td>0.076</td>\n",
       "      <td>11.0</td>\n",
       "      <td>34.0</td>\n",
       "      <td>0.9978</td>\n",
       "      <td>3.51</td>\n",
       "      <td>0.56</td>\n",
       "      <td>9.4</td>\n",
       "      <td>5</td>\n",
       "    </tr>\n",
       "    <tr>\n",
       "      <th>1</th>\n",
       "      <td>7.8</td>\n",
       "      <td>0.88</td>\n",
       "      <td>0.00</td>\n",
       "      <td>2.6</td>\n",
       "      <td>0.098</td>\n",
       "      <td>25.0</td>\n",
       "      <td>67.0</td>\n",
       "      <td>0.9968</td>\n",
       "      <td>3.20</td>\n",
       "      <td>0.68</td>\n",
       "      <td>9.8</td>\n",
       "      <td>5</td>\n",
       "    </tr>\n",
       "    <tr>\n",
       "      <th>2</th>\n",
       "      <td>7.8</td>\n",
       "      <td>0.76</td>\n",
       "      <td>0.04</td>\n",
       "      <td>2.3</td>\n",
       "      <td>0.092</td>\n",
       "      <td>15.0</td>\n",
       "      <td>54.0</td>\n",
       "      <td>0.9970</td>\n",
       "      <td>3.26</td>\n",
       "      <td>0.65</td>\n",
       "      <td>9.8</td>\n",
       "      <td>5</td>\n",
       "    </tr>\n",
       "    <tr>\n",
       "      <th>3</th>\n",
       "      <td>11.2</td>\n",
       "      <td>0.28</td>\n",
       "      <td>0.56</td>\n",
       "      <td>1.9</td>\n",
       "      <td>0.075</td>\n",
       "      <td>17.0</td>\n",
       "      <td>60.0</td>\n",
       "      <td>0.9980</td>\n",
       "      <td>3.16</td>\n",
       "      <td>0.58</td>\n",
       "      <td>9.8</td>\n",
       "      <td>6</td>\n",
       "    </tr>\n",
       "    <tr>\n",
       "      <th>4</th>\n",
       "      <td>7.4</td>\n",
       "      <td>0.70</td>\n",
       "      <td>0.00</td>\n",
       "      <td>1.9</td>\n",
       "      <td>0.076</td>\n",
       "      <td>11.0</td>\n",
       "      <td>34.0</td>\n",
       "      <td>0.9978</td>\n",
       "      <td>3.51</td>\n",
       "      <td>0.56</td>\n",
       "      <td>9.4</td>\n",
       "      <td>5</td>\n",
       "    </tr>\n",
       "  </tbody>\n",
       "</table>\n",
       "</div>"
      ],
      "text/plain": [
       "   fixed_acidity  volatile_acidity  citric_acid  residual_sugar  chlorides  \\\n",
       "0            7.4              0.70         0.00             1.9      0.076   \n",
       "1            7.8              0.88         0.00             2.6      0.098   \n",
       "2            7.8              0.76         0.04             2.3      0.092   \n",
       "3           11.2              0.28         0.56             1.9      0.075   \n",
       "4            7.4              0.70         0.00             1.9      0.076   \n",
       "\n",
       "   free_sulfur_dioxide  total_sulfur_dioxide  density    pH  sulphates  \\\n",
       "0                 11.0                  34.0   0.9978  3.51       0.56   \n",
       "1                 25.0                  67.0   0.9968  3.20       0.68   \n",
       "2                 15.0                  54.0   0.9970  3.26       0.65   \n",
       "3                 17.0                  60.0   0.9980  3.16       0.58   \n",
       "4                 11.0                  34.0   0.9978  3.51       0.56   \n",
       "\n",
       "   alcohol  quality  \n",
       "0      9.4        5  \n",
       "1      9.8        5  \n",
       "2      9.8        5  \n",
       "3      9.8        6  \n",
       "4      9.4        5  "
      ]
     },
     "execution_count": 1,
     "metadata": {},
     "output_type": "execute_result"
    }
   ],
   "source": [
    "from spn.algorithms.Inference import log_likelihood\n",
    "from spn.algorithms.LearningWrappers import learn_parametric\n",
    "from spn.structure.Base import Context\n",
    "from spn.structure.leaves.parametric.Parametric import Categorical, Gaussian, Bernoulli\n",
    "from sklearn.model_selection import train_test_split\n",
    "import numpy as np\n",
    "import pandas as pd\n",
    "\n",
    "red = pd.read_csv(\"winequality-red.csv\", sep=\";\")\n",
    "oldnames = red.columns\n",
    "rename_dict = {old: old.replace(\" \", \"_\") for old in oldnames}\n",
    "red = red.rename(rename_dict, axis=1)\n",
    "\n",
    "white = pd.read_csv(\"winequality-white.csv\", sep=\";\")\n",
    "oldnames = white.columns\n",
    "rename_dict = {old: old.replace(\" \", \"_\") for old in oldnames}\n",
    "white = white.rename(rename_dict, axis=1)\n",
    "print (\"%d red wines and %d white wines\" % (len(red), len(white)))\n",
    "\n",
    "frame = pd.concat([red, white], ignore_index=True)\n",
    "print (\"%d rows\" % len(frame))\n",
    "print (frame.shape)\n",
    "frame.head()"
   ]
  },
  {
   "cell_type": "code",
   "execution_count": 2,
   "metadata": {},
   "outputs": [
    {
     "name": "stdout",
     "output_type": "stream",
     "text": [
      "4872 in train, 1625 in test\n"
     ]
    }
   ],
   "source": [
    "features = frame.columns.tolist()\n",
    "ptypes = [Gaussian] * len(features)\n",
    "categorical = [False] * len(features)\n",
    "\n",
    "data = frame.to_numpy().astype(float)\n",
    "\n",
    "train, test = train_test_split(data, random_state = 0)\n",
    "print (\"%d in train, %d in test\" % (len(train), len(test)))"
   ]
  },
  {
   "cell_type": "code",
   "execution_count": 3,
   "metadata": {
    "scrolled": true
   },
   "outputs": [
    {
     "name": "stderr",
     "output_type": "stream",
     "text": [
      "/home/saurabh/miniconda3/lib/python3.7/site-packages/sklearn/cross_decomposition/_pls.py:98: ConvergenceWarning: Maximum number of iterations reached\n",
      "  ConvergenceWarning)\n"
     ]
    }
   ],
   "source": [
    "net = learn_parametric(train, \n",
    "                       ds_context = Context(parametric_types=ptypes).add_domains(train), \n",
    "                       rows = \"gmm\",\n",
    "                       min_instances_slice = len(train) / 100)"
   ]
  },
  {
   "cell_type": "code",
   "execution_count": 28,
   "metadata": {
    "scrolled": true
   },
   "outputs": [
    {
     "name": "stdout",
     "output_type": "stream",
     "text": [
      "#product nodes =  236\n",
      "236, 12.45, 6.76\n",
      "5, 3.60, 2.60\n"
     ]
    }
   ],
   "source": [
    "import csi2\n",
    "from spn.structure.Base import get_nodes_by_type, Product\n",
    "\n",
    "\n",
    "import importlib\n",
    "importlib.reload(csi2)\n",
    "\n",
    "def format_condition(condition):\n",
    "    try:\n",
    "        a, sign, b = condition.split(\" \")\n",
    "    except ValueError as e:\n",
    "        raise ValueError(\"Some nodes don't have conditions. reduce min_impurity_decrease\")\n",
    "    return \"%s %s %.4f\" % (a, sign, float(b))\n",
    "\n",
    "print ('#product nodes = ', len(get_nodes_by_type(net, (Product))))\n",
    "names = features\n",
    "csi2.annotate_spn(net, names, categorical, \n",
    "             min_impurity_decrease = 0.05, max_depth = 2)\n",
    "rules = csi2.context_specific_independences(net, instance_threshold = 0)\n",
    "\n",
    "\n",
    "rules = csi2.context_specific_independences(net, instance_threshold = 0)\n",
    "csis = []\n",
    "ac = []\n",
    "cc = []\n",
    "for i, rule in enumerate(rules):\n",
    "    antecedent, consequent, *scores = rule\n",
    "    A = csi2.format_antecedent(antecedent, format_condition)\n",
    "    C = csi2.format_consequent(consequent)\n",
    "    a_count = csi2.antecedent_count(A)\n",
    "    c_count = csi2.consequent_count(C)\n",
    "    ac.append(a_count)\n",
    "    cc.append(c_count)\n",
    "    csis.append (\"{%s} => {%s} | %.2f, %.2f, %d | %d %d\" % (A, C, *scores, a_count, c_count))\n",
    "print (\"%d, %.2f, %.2f\" % (len(csis), np.mean(ac), np.mean(cc)))\n",
    "\n",
    "rules = csi2.context_specific_independences(net, instance_threshold = len(train) / 20,\n",
    "                                           precision_threshold = 0.7, recall_threshold = 0.7)\n",
    "csis = []\n",
    "ac = []\n",
    "cc = []\n",
    "for i, rule in enumerate(rules):\n",
    "    antecedent, consequent, *scores = rule\n",
    "    A = csi2.format_antecedent(antecedent, format_condition)\n",
    "    C = csi2.format_consequent(consequent)\n",
    "    a_count = csi2.antecedent_count(A)\n",
    "    c_count = csi2.consequent_count(C)\n",
    "    ac.append(a_count)\n",
    "    cc.append(c_count)\n",
    "    csis.append (\"{%s} => {%s} | %.2f, %.2f, %d | %d %d\" % (A, C, *scores, a_count, c_count))\n",
    "print (\"%d, %.2f, %.2f\" % (len(csis), np.mean(ac), np.mean(cc)))"
   ]
  },
  {
   "cell_type": "code",
   "execution_count": 24,
   "metadata": {},
   "outputs": [
    {
     "data": {
      "text/plain": [
       "['{chlorides <= 0.0585} => {(fixed_acidity,citric_acid,residual_sugar,chlorides,free_sulfur_dioxide,total_sulfur_dioxide,density,pH,alcohol,quality), (volatile_acidity), (sulphates)} | 0.94, 0.95, 3411 | 1 3',\n",
       " '{[chlorides > 0.0585] & [(total_sulfur_dioxide <= 72.5000) & (residual_sugar <= 3.3500)]} => {(fixed_acidity,volatile_acidity,citric_acid,residual_sugar,chlorides,density,pH,sulphates,alcohol,quality), (free_sulfur_dioxide,total_sulfur_dioxide)} | 0.87, 0.85, 884 | 3 2',\n",
       " '{[chlorides <= 0.0585] & [density > 0.9948]} => {(fixed_acidity,citric_acid,residual_sugar,density,pH,alcohol), (chlorides), (free_sulfur_dioxide,total_sulfur_dioxide), (quality)} | 0.87, 0.79, 1455 | 2 4',\n",
       " '{[chlorides <= 0.0585] & [density > 0.9948] & [alcohol <= 9.8500] & [residual_sugar <= 11.7750] & [residual_sugar > 3.2500]} => {(fixed_acidity,residual_sugar,density,pH,alcohol), (citric_acid)} | 0.82, 0.79, 366 | 5 2',\n",
       " '{[chlorides <= 0.0585] & [density > 0.9948] & [free_sulfur_dioxide <= 88.5000] & [total_sulfur_dioxide > 169.5000] & [total_sulfur_dioxide <= 201.5000] & [(total_sulfur_dioxide > 173.5000) & (total_sulfur_dioxide <= 206.0000)]} => {(free_sulfur_dioxide), (total_sulfur_dioxide)} | 0.87, 0.79, 384 | 7 2']"
      ]
     },
     "execution_count": 24,
     "metadata": {},
     "output_type": "execute_result"
    }
   ],
   "source": [
    "csis"
   ]
  },
  {
   "cell_type": "code",
   "execution_count": 10,
   "metadata": {},
   "outputs": [
    {
     "name": "stdout",
     "output_type": "stream",
     "text": [
      "-3.55\n"
     ]
    }
   ],
   "source": [
    "from spn.algorithms.Inference import log_likelihood\n",
    "\n",
    "print (\"%.2f\" % np.mean(log_likelihood(net, test)))"
   ]
  }
 ],
 "metadata": {
  "kernelspec": {
   "display_name": "Python 3",
   "language": "python",
   "name": "python3"
  },
  "language_info": {
   "codemirror_mode": {
    "name": "ipython",
    "version": 3
   },
   "file_extension": ".py",
   "mimetype": "text/x-python",
   "name": "python",
   "nbconvert_exporter": "python",
   "pygments_lexer": "ipython3",
   "version": "3.7.3"
  }
 },
 "nbformat": 4,
 "nbformat_minor": 2
}
