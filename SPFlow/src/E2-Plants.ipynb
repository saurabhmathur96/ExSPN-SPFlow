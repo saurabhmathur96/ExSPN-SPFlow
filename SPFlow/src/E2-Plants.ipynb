{
 "cells": [
  {
   "cell_type": "code",
   "execution_count": 1,
   "metadata": {},
   "outputs": [
    {
     "name": "stdout",
     "output_type": "stream",
     "text": [
      "--2021-10-04 14:47:25--  https://archive.ics.uci.edu/ml/machine-learning-databases/plants/plants.data\n",
      "Resolving archive.ics.uci.edu (archive.ics.uci.edu)... 128.195.10.252\n",
      "Connecting to archive.ics.uci.edu (archive.ics.uci.edu)|128.195.10.252|:443... connected.\n",
      "HTTP request sent, awaiting response... 200 OK\n",
      "Length: 1690800 (1.6M) [application/x-httpd-php]\n",
      "Saving to: ‘plants.data.1’\n",
      "\n",
      "plants.data.1       100%[===================>]   1.61M  5.51MB/s    in 0.3s    \n",
      "\n",
      "2021-10-04 14:47:26 (5.51 MB/s) - ‘plants.data.1’ saved [1690800/1690800]\n",
      "\n"
     ]
    }
   ],
   "source": [
    "!wget https://archive.ics.uci.edu/ml/machine-learning-databases/plants/plants.data"
   ]
  },
  {
   "cell_type": "code",
   "execution_count": 1,
   "metadata": {},
   "outputs": [
    {
     "name": "stdout",
     "output_type": "stream",
     "text": [
      "17411 in train, 5804 in test\n"
     ]
    }
   ],
   "source": [
    "import numpy as np\n",
    "import pandas as pd\n",
    "from sklearn.model_selection import train_test_split\n",
    "from spn.algorithms.Inference import log_likelihood\n",
    "from spn.algorithms.LearningWrappers import learn_parametric\n",
    "from spn.structure.Base import Context\n",
    "from spn.structure.leaves.parametric.Parametric import Categorical, Gaussian, Bernoulli\n",
    "\n",
    "\n",
    "state_names = set()\n",
    "for line in open('plants.data', encoding='ISO-8859-1'):\n",
    "    name, *states = line.rstrip().split(\",\")\n",
    "    state_names.update(states)\n",
    "\n",
    "features = list(sorted(list(state_names)))\n",
    "rows = []\n",
    "for line in open('plants.data', encoding='ISO-8859-1'):\n",
    "    name, *states = line.rstrip().split(\",\")\n",
    "    row = np.zeros(len(features))\n",
    "    for state in states:\n",
    "        row[features.index(state)] = 1\n",
    "    rows.append(np.array(row))\n",
    "\n",
    "D = np.array(rows)\n",
    "D = D[D.sum(axis = 1)  >= 2]\n",
    "ptypes = [Bernoulli] * len(features)\n",
    "categorical = [True]*len(features)\n",
    "\n",
    "train, test = train_test_split(D, random_state = 0)\n",
    "print (\"%d in train, %d in test\" % (len(train), len(test)))"
   ]
  },
  {
   "cell_type": "code",
   "execution_count": 2,
   "metadata": {},
   "outputs": [
    {
     "data": {
      "text/plain": [
       "(23215, 70)"
      ]
     },
     "execution_count": 2,
     "metadata": {},
     "output_type": "execute_result"
    }
   ],
   "source": [
    "D.shape"
   ]
  },
  {
   "cell_type": "code",
   "execution_count": 3,
   "metadata": {
    "scrolled": true
   },
   "outputs": [
    {
     "name": "stderr",
     "output_type": "stream",
     "text": [
      "/home/saurabh/miniconda3/lib/python3.7/site-packages/sklearn/cross_decomposition/_pls.py:98: ConvergenceWarning: Maximum number of iterations reached\n",
      "  ConvergenceWarning)\n",
      "/home/saurabh/miniconda3/lib/python3.7/site-packages/sklearn/cross_decomposition/_pls.py:98: ConvergenceWarning: Maximum number of iterations reached\n",
      "  ConvergenceWarning)\n",
      "/home/saurabh/miniconda3/lib/python3.7/site-packages/sklearn/cross_decomposition/_pls.py:98: ConvergenceWarning: Maximum number of iterations reached\n",
      "  ConvergenceWarning)\n",
      "/home/saurabh/miniconda3/lib/python3.7/site-packages/sklearn/cross_decomposition/_pls.py:98: ConvergenceWarning: Maximum number of iterations reached\n",
      "  ConvergenceWarning)\n",
      "/home/saurabh/miniconda3/lib/python3.7/site-packages/sklearn/cross_decomposition/_pls.py:98: ConvergenceWarning: Maximum number of iterations reached\n",
      "  ConvergenceWarning)\n",
      "/home/saurabh/miniconda3/lib/python3.7/site-packages/sklearn/cross_decomposition/_pls.py:98: ConvergenceWarning: Maximum number of iterations reached\n",
      "  ConvergenceWarning)\n",
      "/home/saurabh/miniconda3/lib/python3.7/site-packages/sklearn/cross_decomposition/_pls.py:98: ConvergenceWarning: Maximum number of iterations reached\n",
      "  ConvergenceWarning)\n",
      "/home/saurabh/miniconda3/lib/python3.7/site-packages/sklearn/cross_decomposition/_pls.py:98: ConvergenceWarning: Maximum number of iterations reached\n",
      "  ConvergenceWarning)\n",
      "/home/saurabh/miniconda3/lib/python3.7/site-packages/sklearn/cross_decomposition/_pls.py:98: ConvergenceWarning: Maximum number of iterations reached\n",
      "  ConvergenceWarning)\n",
      "/home/saurabh/miniconda3/lib/python3.7/site-packages/sklearn/cross_decomposition/_pls.py:98: ConvergenceWarning: Maximum number of iterations reached\n",
      "  ConvergenceWarning)\n",
      "/home/saurabh/miniconda3/lib/python3.7/site-packages/sklearn/cross_decomposition/_pls.py:98: ConvergenceWarning: Maximum number of iterations reached\n",
      "  ConvergenceWarning)\n",
      "/home/saurabh/miniconda3/lib/python3.7/site-packages/sklearn/cross_decomposition/_pls.py:98: ConvergenceWarning: Maximum number of iterations reached\n",
      "  ConvergenceWarning)\n",
      "/home/saurabh/miniconda3/lib/python3.7/site-packages/sklearn/cross_decomposition/_pls.py:98: ConvergenceWarning: Maximum number of iterations reached\n",
      "  ConvergenceWarning)\n",
      "/home/saurabh/miniconda3/lib/python3.7/site-packages/sklearn/cross_decomposition/_pls.py:98: ConvergenceWarning: Maximum number of iterations reached\n",
      "  ConvergenceWarning)\n",
      "/home/saurabh/miniconda3/lib/python3.7/site-packages/sklearn/cross_decomposition/_pls.py:98: ConvergenceWarning: Maximum number of iterations reached\n",
      "  ConvergenceWarning)\n",
      "/home/saurabh/miniconda3/lib/python3.7/site-packages/sklearn/cross_decomposition/_pls.py:98: ConvergenceWarning: Maximum number of iterations reached\n",
      "  ConvergenceWarning)\n",
      "/home/saurabh/miniconda3/lib/python3.7/site-packages/sklearn/cross_decomposition/_pls.py:98: ConvergenceWarning: Maximum number of iterations reached\n",
      "  ConvergenceWarning)\n",
      "/home/saurabh/miniconda3/lib/python3.7/site-packages/sklearn/cross_decomposition/_pls.py:98: ConvergenceWarning: Maximum number of iterations reached\n",
      "  ConvergenceWarning)\n",
      "/home/saurabh/miniconda3/lib/python3.7/site-packages/sklearn/cross_decomposition/_pls.py:98: ConvergenceWarning: Maximum number of iterations reached\n",
      "  ConvergenceWarning)\n",
      "/home/saurabh/miniconda3/lib/python3.7/site-packages/sklearn/cross_decomposition/_pls.py:98: ConvergenceWarning: Maximum number of iterations reached\n",
      "  ConvergenceWarning)\n",
      "/home/saurabh/miniconda3/lib/python3.7/site-packages/sklearn/cross_decomposition/_pls.py:98: ConvergenceWarning: Maximum number of iterations reached\n",
      "  ConvergenceWarning)\n",
      "/home/saurabh/miniconda3/lib/python3.7/site-packages/sklearn/cross_decomposition/_pls.py:98: ConvergenceWarning: Maximum number of iterations reached\n",
      "  ConvergenceWarning)\n",
      "/home/saurabh/miniconda3/lib/python3.7/site-packages/sklearn/cross_decomposition/_pls.py:98: ConvergenceWarning: Maximum number of iterations reached\n",
      "  ConvergenceWarning)\n",
      "/home/saurabh/miniconda3/lib/python3.7/site-packages/sklearn/cross_decomposition/_pls.py:98: ConvergenceWarning: Maximum number of iterations reached\n",
      "  ConvergenceWarning)\n",
      "/home/saurabh/miniconda3/lib/python3.7/site-packages/sklearn/cross_decomposition/_pls.py:98: ConvergenceWarning: Maximum number of iterations reached\n",
      "  ConvergenceWarning)\n",
      "/home/saurabh/miniconda3/lib/python3.7/site-packages/sklearn/cross_decomposition/_pls.py:98: ConvergenceWarning: Maximum number of iterations reached\n",
      "  ConvergenceWarning)\n",
      "/home/saurabh/miniconda3/lib/python3.7/site-packages/sklearn/cross_decomposition/_pls.py:98: ConvergenceWarning: Maximum number of iterations reached\n",
      "  ConvergenceWarning)\n",
      "/home/saurabh/miniconda3/lib/python3.7/site-packages/sklearn/cross_decomposition/_pls.py:98: ConvergenceWarning: Maximum number of iterations reached\n",
      "  ConvergenceWarning)\n",
      "/home/saurabh/miniconda3/lib/python3.7/site-packages/sklearn/cross_decomposition/_pls.py:98: ConvergenceWarning: Maximum number of iterations reached\n",
      "  ConvergenceWarning)\n",
      "/home/saurabh/miniconda3/lib/python3.7/site-packages/sklearn/cross_decomposition/_pls.py:98: ConvergenceWarning: Maximum number of iterations reached\n",
      "  ConvergenceWarning)\n",
      "/home/saurabh/miniconda3/lib/python3.7/site-packages/sklearn/cross_decomposition/_pls.py:98: ConvergenceWarning: Maximum number of iterations reached\n",
      "  ConvergenceWarning)\n",
      "/home/saurabh/miniconda3/lib/python3.7/site-packages/sklearn/cross_decomposition/_pls.py:98: ConvergenceWarning: Maximum number of iterations reached\n",
      "  ConvergenceWarning)\n",
      "/home/saurabh/miniconda3/lib/python3.7/site-packages/sklearn/cross_decomposition/_pls.py:98: ConvergenceWarning: Maximum number of iterations reached\n",
      "  ConvergenceWarning)\n",
      "/home/saurabh/miniconda3/lib/python3.7/site-packages/sklearn/cross_decomposition/_pls.py:98: ConvergenceWarning: Maximum number of iterations reached\n",
      "  ConvergenceWarning)\n",
      "/home/saurabh/miniconda3/lib/python3.7/site-packages/sklearn/cross_decomposition/_pls.py:98: ConvergenceWarning: Maximum number of iterations reached\n",
      "  ConvergenceWarning)\n",
      "/home/saurabh/miniconda3/lib/python3.7/site-packages/sklearn/cross_decomposition/_pls.py:98: ConvergenceWarning: Maximum number of iterations reached\n",
      "  ConvergenceWarning)\n",
      "/home/saurabh/miniconda3/lib/python3.7/site-packages/sklearn/cross_decomposition/_pls.py:98: ConvergenceWarning: Maximum number of iterations reached\n",
      "  ConvergenceWarning)\n",
      "/home/saurabh/miniconda3/lib/python3.7/site-packages/sklearn/cross_decomposition/_pls.py:98: ConvergenceWarning: Maximum number of iterations reached\n",
      "  ConvergenceWarning)\n",
      "/home/saurabh/miniconda3/lib/python3.7/site-packages/sklearn/cross_decomposition/_pls.py:98: ConvergenceWarning: Maximum number of iterations reached\n",
      "  ConvergenceWarning)\n",
      "/home/saurabh/miniconda3/lib/python3.7/site-packages/sklearn/cross_decomposition/_pls.py:98: ConvergenceWarning: Maximum number of iterations reached\n",
      "  ConvergenceWarning)\n",
      "/home/saurabh/miniconda3/lib/python3.7/site-packages/sklearn/cross_decomposition/_pls.py:98: ConvergenceWarning: Maximum number of iterations reached\n",
      "  ConvergenceWarning)\n",
      "/home/saurabh/miniconda3/lib/python3.7/site-packages/sklearn/cross_decomposition/_pls.py:98: ConvergenceWarning: Maximum number of iterations reached\n",
      "  ConvergenceWarning)\n",
      "/home/saurabh/miniconda3/lib/python3.7/site-packages/sklearn/cross_decomposition/_pls.py:98: ConvergenceWarning: Maximum number of iterations reached\n",
      "  ConvergenceWarning)\n",
      "/home/saurabh/miniconda3/lib/python3.7/site-packages/sklearn/cross_decomposition/_pls.py:98: ConvergenceWarning: Maximum number of iterations reached\n",
      "  ConvergenceWarning)\n",
      "/home/saurabh/miniconda3/lib/python3.7/site-packages/sklearn/cross_decomposition/_pls.py:98: ConvergenceWarning: Maximum number of iterations reached\n",
      "  ConvergenceWarning)\n",
      "/home/saurabh/miniconda3/lib/python3.7/site-packages/sklearn/cross_decomposition/_pls.py:98: ConvergenceWarning: Maximum number of iterations reached\n",
      "  ConvergenceWarning)\n",
      "/home/saurabh/miniconda3/lib/python3.7/site-packages/sklearn/cross_decomposition/_pls.py:98: ConvergenceWarning: Maximum number of iterations reached\n",
      "  ConvergenceWarning)\n",
      "/home/saurabh/miniconda3/lib/python3.7/site-packages/sklearn/cross_decomposition/_pls.py:98: ConvergenceWarning: Maximum number of iterations reached\n",
      "  ConvergenceWarning)\n"
     ]
    },
    {
     "name": "stderr",
     "output_type": "stream",
     "text": [
      "/home/saurabh/miniconda3/lib/python3.7/site-packages/sklearn/cross_decomposition/_pls.py:98: ConvergenceWarning: Maximum number of iterations reached\n",
      "  ConvergenceWarning)\n"
     ]
    }
   ],
   "source": [
    "net = learn_parametric(train, \n",
    "                       ds_context = Context(parametric_types=ptypes).add_domains(train), \n",
    "                       rows = \"gmm\", ohe=True,\n",
    "                       min_instances_slice = len(train) / 100)"
   ]
  },
  {
   "cell_type": "code",
   "execution_count": 5,
   "metadata": {},
   "outputs": [
    {
     "name": "stdout",
     "output_type": "stream",
     "text": [
      "#product nodes =  342\n",
      "342, 9.60, 9.61\n",
      "23, 6.22, 7.09\n"
     ]
    }
   ],
   "source": [
    "import csi2\n",
    "from spn.structure.Base import get_nodes_by_type, Product\n",
    "names = features\n",
    "def format_condition(condition):\n",
    "    try:\n",
    "        a, sign, b = condition.split(\" \")\n",
    "    except ValueError as e:\n",
    "        raise ValueError(\"Some nodes don't have conditions. reduce min_impurity_decrease\")\n",
    "    \n",
    "    if ((sign, b) == ('==', '1')) or ((sign, b) == ('!=', '0')):\n",
    "        return (\"%s\" % (a))\n",
    "    else:\n",
    "        return (\"~%s\" % (a))\n",
    "\n",
    "print ('#product nodes = ', len(get_nodes_by_type(net, (Product))))\n",
    "net.n_instances = len(train)\n",
    "csi2.annotate_spn(net, names, categorical, \n",
    "             min_impurity_decrease = 0.1, max_depth = 2)\n",
    "\n",
    "rules = csi2.context_specific_independences(net, instance_threshold = 0)\n",
    "csis = []\n",
    "ac = []\n",
    "cc = []\n",
    "for i, rule in enumerate(rules):\n",
    "    antecedent, consequent, *scores = rule\n",
    "    A = csi2.format_antecedent(antecedent, format_condition)\n",
    "    C = csi2.format_consequent(consequent)\n",
    "    a_count = csi2.antecedent_count(A)\n",
    "    c_count = csi2.consequent_count(C)\n",
    "    ac.append(a_count)\n",
    "    cc.append(c_count)\n",
    "    csis.append (\"{%s} => {%s} | %.2f, %.2f, %d | %d %d\" % (A, C, *scores, a_count, c_count))\n",
    "print (\"%d, %.2f, %.2f\" % (len(csis), np.mean(ac), np.mean(cc)))\n",
    "\n",
    "rules = csi2.context_specific_independences(net, instance_threshold = len(train) / 20,\n",
    "                                           precision_threshold = 0.7, recall_threshold = 0.7)\n",
    "csis = []\n",
    "ac = []\n",
    "cc = []\n",
    "for i, rule in enumerate(rules):\n",
    "    antecedent, consequent, *scores = rule\n",
    "    A = csi2.format_antecedent(antecedent, format_condition)\n",
    "    C = csi2.format_consequent(consequent)\n",
    "    a_count = csi2.antecedent_count(A)\n",
    "    c_count = csi2.consequent_count(C)\n",
    "    ac.append(a_count)\n",
    "    cc.append(c_count)\n",
    "    csis.append (\"{%s} => {%s} | %.2f, %.2f, %d | %d %d\" % (A, C, *scores, a_count, c_count))\n",
    "print (\"%d, %.2f, %.2f\" % (len(csis), np.mean(ac), np.mean(cc)))"
   ]
  },
  {
   "cell_type": "code",
   "execution_count": 8,
   "metadata": {},
   "outputs": [
    {
     "name": "stdout",
     "output_type": "stream",
     "text": [
      "test log-likelihood = -14.03\n"
     ]
    }
   ],
   "source": [
    "from spn.algorithms.Inference import log_likelihood\n",
    "\n",
    "print (\"test log-likelihood = %.2f\" % np.mean(log_likelihood(net, test)))"
   ]
  }
 ],
 "metadata": {
  "kernelspec": {
   "display_name": "Python 3",
   "language": "python",
   "name": "python3"
  },
  "language_info": {
   "codemirror_mode": {
    "name": "ipython",
    "version": 3
   },
   "file_extension": ".py",
   "mimetype": "text/x-python",
   "name": "python",
   "nbconvert_exporter": "python",
   "pygments_lexer": "ipython3",
   "version": "3.7.3"
  }
 },
 "nbformat": 4,
 "nbformat_minor": 2
}
