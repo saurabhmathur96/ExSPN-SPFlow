{
 "cells": [
  {
   "cell_type": "code",
   "execution_count": 1,
   "metadata": {},
   "outputs": [],
   "source": [
    "import pandas as pd\n",
    "import numpy as np\n",
    "from spn.algorithms.LearningWrappers import learn_parametric\n",
    "from spn.structure.Base import Context\n",
    "from spn.structure.leaves.parametric.Parametric import Bernoulli\n",
    "\n",
    "frame = pd.read_csv('asia_data.csv')\n",
    "D = frame.to_numpy()\n",
    "features = frame.columns.tolist()\n",
    "categorical = [True]*len(features)\n",
    "ptypes = [Bernoulli] * len(features)"
   ]
  },
  {
   "cell_type": "code",
   "execution_count": 5,
   "metadata": {},
   "outputs": [],
   "source": [
    "net = learn_parametric(D, \n",
    "                       ds_context = Context(parametric_types=ptypes).add_domains(D), \n",
    "                       rows = \"gmm\", ohe = True,\n",
    "                       min_instances_slice = len(D) / 100)"
   ]
  },
  {
   "cell_type": "code",
   "execution_count": 13,
   "metadata": {},
   "outputs": [
    {
     "data": {
      "text/plain": [
       "[BernoulliNode_17, BernoulliNode_18, BernoulliNode_19]"
      ]
     },
     "execution_count": 13,
     "metadata": {},
     "output_type": "execute_result"
    }
   ],
   "source": [
    "net.children[0].children[-2].children[0].children"
   ]
  }
 ],
 "metadata": {
  "kernelspec": {
   "display_name": "Python 3",
   "language": "python",
   "name": "python3"
  },
  "language_info": {
   "codemirror_mode": {
    "name": "ipython",
    "version": 3
   },
   "file_extension": ".py",
   "mimetype": "text/x-python",
   "name": "python",
   "nbconvert_exporter": "python",
   "pygments_lexer": "ipython3",
   "version": "3.7.3"
  }
 },
 "nbformat": 4,
 "nbformat_minor": 2
}
