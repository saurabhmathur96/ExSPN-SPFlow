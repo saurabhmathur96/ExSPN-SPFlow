{
 "cells": [
  {
   "cell_type": "code",
   "execution_count": 1,
   "metadata": {},
   "outputs": [
    {
     "name": "stdout",
     "output_type": "stream",
     "text": [
      "4177 rows\n",
      "(4177, 9)\n"
     ]
    },
    {
     "data": {
      "text/html": [
       "<div>\n",
       "<style scoped>\n",
       "    .dataframe tbody tr th:only-of-type {\n",
       "        vertical-align: middle;\n",
       "    }\n",
       "\n",
       "    .dataframe tbody tr th {\n",
       "        vertical-align: top;\n",
       "    }\n",
       "\n",
       "    .dataframe thead th {\n",
       "        text-align: right;\n",
       "    }\n",
       "</style>\n",
       "<table border=\"1\" class=\"dataframe\">\n",
       "  <thead>\n",
       "    <tr style=\"text-align: right;\">\n",
       "      <th></th>\n",
       "      <th>Sex</th>\n",
       "      <th>Length</th>\n",
       "      <th>Diameter</th>\n",
       "      <th>Height</th>\n",
       "      <th>Whole_weight</th>\n",
       "      <th>Shucked_weight</th>\n",
       "      <th>Viscera_weight</th>\n",
       "      <th>Shell_weight</th>\n",
       "      <th>Class_number_of_rings</th>\n",
       "    </tr>\n",
       "  </thead>\n",
       "  <tbody>\n",
       "    <tr>\n",
       "      <th>0</th>\n",
       "      <td>M</td>\n",
       "      <td>0.455</td>\n",
       "      <td>0.365</td>\n",
       "      <td>0.095</td>\n",
       "      <td>0.5140</td>\n",
       "      <td>0.2245</td>\n",
       "      <td>0.1010</td>\n",
       "      <td>0.150</td>\n",
       "      <td>15</td>\n",
       "    </tr>\n",
       "    <tr>\n",
       "      <th>1</th>\n",
       "      <td>M</td>\n",
       "      <td>0.350</td>\n",
       "      <td>0.265</td>\n",
       "      <td>0.090</td>\n",
       "      <td>0.2255</td>\n",
       "      <td>0.0995</td>\n",
       "      <td>0.0485</td>\n",
       "      <td>0.070</td>\n",
       "      <td>7</td>\n",
       "    </tr>\n",
       "    <tr>\n",
       "      <th>2</th>\n",
       "      <td>F</td>\n",
       "      <td>0.530</td>\n",
       "      <td>0.420</td>\n",
       "      <td>0.135</td>\n",
       "      <td>0.6770</td>\n",
       "      <td>0.2565</td>\n",
       "      <td>0.1415</td>\n",
       "      <td>0.210</td>\n",
       "      <td>9</td>\n",
       "    </tr>\n",
       "    <tr>\n",
       "      <th>3</th>\n",
       "      <td>M</td>\n",
       "      <td>0.440</td>\n",
       "      <td>0.365</td>\n",
       "      <td>0.125</td>\n",
       "      <td>0.5160</td>\n",
       "      <td>0.2155</td>\n",
       "      <td>0.1140</td>\n",
       "      <td>0.155</td>\n",
       "      <td>10</td>\n",
       "    </tr>\n",
       "    <tr>\n",
       "      <th>4</th>\n",
       "      <td>I</td>\n",
       "      <td>0.330</td>\n",
       "      <td>0.255</td>\n",
       "      <td>0.080</td>\n",
       "      <td>0.2050</td>\n",
       "      <td>0.0895</td>\n",
       "      <td>0.0395</td>\n",
       "      <td>0.055</td>\n",
       "      <td>7</td>\n",
       "    </tr>\n",
       "  </tbody>\n",
       "</table>\n",
       "</div>"
      ],
      "text/plain": [
       "  Sex  Length  Diameter  Height  Whole_weight  Shucked_weight  Viscera_weight  \\\n",
       "0   M   0.455     0.365   0.095        0.5140          0.2245          0.1010   \n",
       "1   M   0.350     0.265   0.090        0.2255          0.0995          0.0485   \n",
       "2   F   0.530     0.420   0.135        0.6770          0.2565          0.1415   \n",
       "3   M   0.440     0.365   0.125        0.5160          0.2155          0.1140   \n",
       "4   I   0.330     0.255   0.080        0.2050          0.0895          0.0395   \n",
       "\n",
       "   Shell_weight Class_number_of_rings  \n",
       "0         0.150                    15  \n",
       "1         0.070                     7  \n",
       "2         0.210                     9  \n",
       "3         0.155                    10  \n",
       "4         0.055                     7  "
      ]
     },
     "execution_count": 1,
     "metadata": {},
     "output_type": "execute_result"
    }
   ],
   "source": [
    "from sklearn.datasets import fetch_openml\n",
    "from spn.algorithms.Inference import log_likelihood\n",
    "from spn.algorithms.LearningWrappers import learn_parametric\n",
    "from spn.structure.Base import Context\n",
    "from spn.structure.leaves.parametric.Parametric import Categorical, Gaussian, Bernoulli\n",
    "from sklearn.model_selection import train_test_split\n",
    "import numpy as np\n",
    "import pandas as pd\n",
    "\n",
    "bunch = fetch_openml(data_id = 183)\n",
    "print (\"%s rows\" % (len(bunch.frame)))\n",
    "print (bunch.frame.shape)\n",
    "bunch.frame.head()"
   ]
  },
  {
   "cell_type": "code",
   "execution_count": 2,
   "metadata": {},
   "outputs": [
    {
     "name": "stdout",
     "output_type": "stream",
     "text": [
      "3132 in train, 1045 in test\n"
     ]
    }
   ],
   "source": [
    "frame = bunch.frame\n",
    "frame.Class_number_of_rings = frame.Class_number_of_rings.astype(int)\n",
    "values, text = pd.factorize(frame.Sex, sort=True)\n",
    "frame.Sex = values\n",
    "\n",
    "names = frame.columns.tolist()\n",
    "categorical = [False]*len(names)\n",
    "categorical[0] = True\n",
    "ptypes = [Categorical if categorical[i] else Gaussian for i, name in enumerate(names)]\n",
    "\n",
    "train, test = train_test_split(frame.to_numpy(), random_state = 0)\n",
    "print (\"%d in train, %d in test\" % (len(train), len(test)))"
   ]
  },
  {
   "cell_type": "code",
   "execution_count": 3,
   "metadata": {
    "scrolled": true
   },
   "outputs": [
    {
     "name": "stderr",
     "output_type": "stream",
     "text": [
      "/home/saurabh/miniconda3/lib/python3.7/site-packages/numpy/core/_asarray.py:136: VisibleDeprecationWarning: Creating an ndarray from ragged nested sequences (which is a list-or-tuple of lists-or-tuples-or ndarrays with different lengths or shapes) is deprecated. If you meant to do this, you must specify 'dtype=object' when creating the ndarray\n",
      "  return array(a, dtype, copy=False, order=order, subok=True)\n",
      "/home/saurabh/miniconda3/lib/python3.7/site-packages/sklearn/cross_decomposition/_pls.py:98: ConvergenceWarning: Maximum number of iterations reached\n",
      "  ConvergenceWarning)\n",
      "/home/saurabh/miniconda3/lib/python3.7/site-packages/sklearn/cross_decomposition/_pls.py:98: ConvergenceWarning: Maximum number of iterations reached\n",
      "  ConvergenceWarning)\n"
     ]
    }
   ],
   "source": [
    "net = learn_parametric(train, \n",
    "                       ds_context = Context(parametric_types=ptypes).add_domains(train), \n",
    "                       rows = \"gmm\", ohe=True,\n",
    "                       min_instances_slice = len(train) / 100)"
   ]
  },
  {
   "cell_type": "code",
   "execution_count": 5,
   "metadata": {},
   "outputs": [
    {
     "name": "stdout",
     "output_type": "stream",
     "text": [
      "#product nodes =  194\n",
      "194, 11.31, 7.00\n",
      "4, 4.25, 2.00\n"
     ]
    }
   ],
   "source": [
    "import csi2\n",
    "from spn.structure.Base import get_nodes_by_type, Product\n",
    "\n",
    "\n",
    "\n",
    "def format_condition(condition):\n",
    "    try:\n",
    "        a, sign, b = condition.split(\" \")\n",
    "    except ValueError as e:\n",
    "        raise ValueError(\"Some nodes don't have conditions. reduce min_impurity_decrease\")\n",
    "    if sign in ('==', '!='):\n",
    "        assert a == 'Sex'\n",
    "        v = text[int(float(b))]\n",
    "        return (\"%s %s %s\" % (a, sign, v))\n",
    "    else:\n",
    "        b = float(b)\n",
    "        return (\"%s %s %.2f\" % (a, sign, b))\n",
    "\n",
    "print ('#product nodes = ', len(get_nodes_by_type(net, (Product))))\n",
    "\n",
    "csi2.annotate_spn(net, names, categorical, \n",
    "             min_impurity_decrease = 0.05, max_depth = 2)\n",
    "rules = csi2.context_specific_independences(net, instance_threshold = 0)\n",
    "\n",
    "\n",
    "rules = csi2.context_specific_independences(net, instance_threshold = 0)\n",
    "csis = []\n",
    "ac = []\n",
    "cc = []\n",
    "for i, rule in enumerate(rules):\n",
    "    antecedent, consequent, *scores = rule\n",
    "    A = csi2.format_antecedent(antecedent, format_condition)\n",
    "    C = csi2.format_consequent(consequent)\n",
    "    a_count = csi2.antecedent_count(A)\n",
    "    c_count = csi2.consequent_count(C)\n",
    "    ac.append(a_count)\n",
    "    cc.append(c_count)\n",
    "    csis.append (\"{%s} => {%s} | %.2f, %.2f, %d | %d %d\" % (A, C, *scores, a_count, c_count))\n",
    "print (\"%d, %.2f, %.2f\" % (len(csis), np.mean(ac), np.mean(cc)))\n",
    "\n",
    "rules = csi2.context_specific_independences(net, instance_threshold = len(train) / 20,\n",
    "                                           precision_threshold = 0.7, recall_threshold = 0.7)\n",
    "csis = []\n",
    "ac = []\n",
    "cc = []\n",
    "for i, rule in enumerate(rules):\n",
    "    antecedent, consequent, *scores = rule\n",
    "    A = csi2.format_antecedent(antecedent, format_condition)\n",
    "    C = csi2.format_consequent(consequent)\n",
    "    a_count = csi2.antecedent_count(A)\n",
    "    c_count = csi2.consequent_count(C)\n",
    "    ac.append(a_count)\n",
    "    cc.append(c_count)\n",
    "    csis.append (\"{%s} => {%s} | %.2f, %.2f, %d | %d %d\" % (A, C, *scores, a_count, c_count))\n",
    "print (\"%d, %.2f, %.2f\" % (len(csis), np.mean(ac), np.mean(cc)))"
   ]
  },
  {
   "cell_type": "code",
   "execution_count": 6,
   "metadata": {},
   "outputs": [
    {
     "data": {
      "text/plain": [
       "['{[Whole_weight <= 0.71] & [Whole_weight > 0.38]} => {(Sex), (Length,Diameter,Height,Whole_weight,Shucked_weight,Viscera_weight,Shell_weight,Class_number_of_rings)} | 0.83, 0.87, 724 | 2 2',\n",
       " '{[Whole_weight <= 0.71] & [Whole_weight <= 0.38] & [Sex == I]} => {(Sex), (Length,Diameter,Height,Whole_weight,Shucked_weight,Viscera_weight,Shell_weight,Class_number_of_rings)} | 0.83, 0.89, 416 | 3 2',\n",
       " '{[Whole_weight > 0.71] & [Class_number_of_rings <= 12.50] & [((Height <= 0.16) & (Sex == M)) | (Height > 0.16)]} => {(Sex), (Length,Diameter,Height,Whole_weight,Shucked_weight,Viscera_weight,Shell_weight,Class_number_of_rings)} | 0.81, 0.83, 846 | 5 2',\n",
       " '{[Whole_weight <= 0.71] & [Whole_weight > 0.38] & [(Height <= 0.18) & (Height > 0.10)] & [(Class_number_of_rings <= 9.50) & (Whole_weight <= 0.70)] & [Shell_weight > 0.13]} => {(Length,Diameter,Height,Whole_weight,Shucked_weight,Viscera_weight,Shell_weight), (Class_number_of_rings)} | 0.83, 0.84, 340 | 7 2']"
      ]
     },
     "execution_count": 6,
     "metadata": {},
     "output_type": "execute_result"
    }
   ],
   "source": [
    "csis"
   ]
  },
  {
   "cell_type": "code",
   "execution_count": 5,
   "metadata": {},
   "outputs": [
    {
     "name": "stdout",
     "output_type": "stream",
     "text": [
      "test log-likelihood = 18.99\n"
     ]
    }
   ],
   "source": [
    "from spn.algorithms.Inference import log_likelihood\n",
    "import numpy as np\n",
    "\n",
    "print (\"test log-likelihood = %.2f\" % np.mean(log_likelihood(net, test)))"
   ]
  }
 ],
 "metadata": {
  "kernelspec": {
   "display_name": "Python 3",
   "language": "python",
   "name": "python3"
  },
  "language_info": {
   "codemirror_mode": {
    "name": "ipython",
    "version": 3
   },
   "file_extension": ".py",
   "mimetype": "text/x-python",
   "name": "python",
   "nbconvert_exporter": "python",
   "pygments_lexer": "ipython3",
   "version": "3.7.3"
  }
 },
 "nbformat": 4,
 "nbformat_minor": 2
}
